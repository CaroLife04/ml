{
 "cells": [
  {
   "cell_type": "code",
   "execution_count": 2,
   "id": "c1a2f2dc-0052-4f76-a803-475f1262f6ef",
   "metadata": {},
   "outputs": [],
   "source": [
    "import pandas as pd\n",
    "import numpy as np\n",
    "from sklearn.preprocessing import OneHotEncoder\n",
    "from sklearn.compose import ColumnTransformer\n",
    "from sklearn.preprocessing import LabelEncoder\n",
    "from sklearn.preprocessing import StandardScaler\n",
    "from sklearn.model_selection import train_test_split\n",
    "from sklearn.metrics import r2_score\n",
    "from sklearn.metrics import mean_squared_error\n",
    "from sklearn.ensemble import GradientBoostingRegressor\n",
    "from sklearn.metrics import r2_score\n",
    "from xgboost import XGBRegressor"
   ]
  },
  {
   "cell_type": "code",
   "execution_count": 3,
   "id": "95676f29-f12a-4613-a503-657e60b01a75",
   "metadata": {},
   "outputs": [],
   "source": [
    "dataset = pd.read_csv('true_pred.csv')\n",
    "y = dataset.iloc[:,-1].values.reshape(-1,1)\n",
    "X = dataset.iloc[:,:-2].values\n",
    "lableencoder = LabelEncoder()"
   ]
  },
  {
   "cell_type": "code",
   "execution_count": 4,
   "id": "b9972b73-8e8e-4aa0-aa90-3b747c6b14e5",
   "metadata": {},
   "outputs": [
    {
     "name": "stderr",
     "output_type": "stream",
     "text": [
      "C:\\Users\\CaroLife\\Desktop\\machine_learning_python\\venv\\Lib\\site-packages\\sklearn\\preprocessing\\_encoders.py:975: FutureWarning: `sparse` was renamed to `sparse_output` in version 1.2 and will be removed in 1.4. `sparse_output` is ignored unless you leave `sparse` to its default value.\n",
      "  warnings.warn(\n",
      "C:\\Users\\CaroLife\\Desktop\\machine_learning_python\\venv\\Lib\\site-packages\\sklearn\\preprocessing\\_encoders.py:975: FutureWarning: `sparse` was renamed to `sparse_output` in version 1.2 and will be removed in 1.4. `sparse_output` is ignored unless you leave `sparse` to its default value.\n",
      "  warnings.warn(\n"
     ]
    }
   ],
   "source": [
    "sc = StandardScaler()\n",
    "\n",
    "\n",
    "dataset = pd.read_csv(\"pred.csv\")\n",
    "\n",
    "X = dataset.iloc[:, 0:4].values\n",
    "y = dataset.iloc[:, -1].values\n",
    "y = y.reshape(-1,1)\n",
    "# encoder = LabelEncoder()\n",
    "s_cy = StandardScaler()\n",
    "y = s_cy.fit_transform(y)\n",
    "categorical_cols = [1,2]\n",
    "numeric_cols = [3]\n",
    "\n",
    "categorical_encoder = OneHotEncoder(sparse = False)\n",
    "categorical_encoder.fit(X[:, 1:3])\n",
    "numeric_encoder = StandardScaler()\n",
    "numeric_encoder.fit(X[:, 3].reshape(-1,1))\n",
    "labelencoder = LabelEncoder()\n",
    "labelencoder.fit(np.array(['2022','2023','2024','2025','2026','2027','2028','2029','2030']))\n",
    "\n",
    "preprocessor = ColumnTransformer(\n",
    "    transformers=[\n",
    "        ('cat', categorical_encoder, categorical_cols),\n",
    "        ('num', numeric_encoder, numeric_cols)\n",
    "    ],\n",
    "    remainder='passthrough'\n",
    ")\n",
    "\n",
    "# Fit and transform the column transformer to the entire dataframe\n",
    "X = preprocessor.fit_transform(X)\n",
    "X[:,-1] = labelencoder.transform(X[:,-1])\n",
    "# X[:,0] = encoder.fit_transform(X[:,0])\n",
    "# X[:,1] = encoder.fit_transform(X[:,1])"
   ]
  },
  {
   "cell_type": "code",
   "execution_count": 5,
   "id": "f45b268e-b8ff-4a1d-bcc6-c9175b0c5dc1",
   "metadata": {},
   "outputs": [
    {
     "data": {
      "text/plain": [
       "array([[0.0, 0.0, 0.0, ..., 0.0, -0.2233113795418192, 0],\n",
       "       [0.0, 0.0, 0.0, ..., 0.0, -0.2233113795418192, 0],\n",
       "       [0.0, 0.0, 0.0, ..., 0.0, -0.2233113795418192, 0],\n",
       "       ...,\n",
       "       [0.0, 0.0, 0.0, ..., 0.0, 0.9917676426346863, 1],\n",
       "       [0.0, 0.0, 0.0, ..., 0.0, 1.1555557239939018, 1],\n",
       "       [0.0, 0.0, 0.0, ..., 0.0, 7.478537469489197, 1]], dtype=object)"
      ]
     },
     "execution_count": 5,
     "metadata": {},
     "output_type": "execute_result"
    }
   ],
   "source": [
    "X"
   ]
  },
  {
   "cell_type": "code",
   "execution_count": 6,
   "id": "1c4aefe6-2da1-4870-bc45-bffa8d081882",
   "metadata": {},
   "outputs": [
    {
     "data": {
      "text/plain": [
       "array([[-0.30540415],\n",
       "       [-0.30163377],\n",
       "       [-0.29948487],\n",
       "       [-0.29842155],\n",
       "       [-0.30521528],\n",
       "       [-0.30090031],\n",
       "       [-0.29892128],\n",
       "       [-0.27663045],\n",
       "       [-0.30465442],\n",
       "       [-0.30255021],\n",
       "       [-0.29688104],\n",
       "       [-0.29707338],\n",
       "       [-0.29429157],\n",
       "       [-0.30515745],\n",
       "       [-0.30435662],\n",
       "       [-0.29080843],\n",
       "       [-0.27942424],\n",
       "       [-0.27280784],\n",
       "       [-0.26496962],\n",
       "       [-0.29800133],\n",
       "       [-0.28517204],\n",
       "       [-0.25573015],\n",
       "       [-0.29049988],\n",
       "       [-0.22606602],\n",
       "       [-0.30028955],\n",
       "       [-0.29710992],\n",
       "       [-0.18825964],\n",
       "       [-0.29381874],\n",
       "       [-0.09300588],\n",
       "       [-0.29388333],\n",
       "       [ 0.21994522],\n",
       "       [-0.22672703],\n",
       "       [-0.29395458],\n",
       "       [-0.20210417],\n",
       "       [-0.3002989 ],\n",
       "       [-0.29090172],\n",
       "       [ 1.17533667],\n",
       "       [ 0.83043129],\n",
       "       [-0.20523529],\n",
       "       [-0.29231411],\n",
       "       [-0.30383537],\n",
       "       [-0.1094623 ],\n",
       "       [-0.19801695],\n",
       "       [ 0.56447745],\n",
       "       [-0.27749007],\n",
       "       [ 2.95909983],\n",
       "       [ 2.01754876],\n",
       "       [ 0.13660113],\n",
       "       [-0.30549893],\n",
       "       [-0.30551011],\n",
       "       [-0.30500369],\n",
       "       [-0.30490043],\n",
       "       [-0.3026702 ],\n",
       "       [-0.29533536],\n",
       "       [-0.30555651],\n",
       "       [-0.30504046],\n",
       "       [-0.30068684],\n",
       "       [-0.29915749],\n",
       "       [-0.29757945],\n",
       "       [-0.23595938],\n",
       "       [-0.30316513],\n",
       "       [-0.27942254],\n",
       "       [-0.30401206],\n",
       "       [-0.30332247],\n",
       "       [-0.30147145],\n",
       "       [-0.29497636],\n",
       "       [-0.28490842],\n",
       "       [-0.11625636],\n",
       "       [-0.30315559],\n",
       "       [-0.29598778],\n",
       "       [-0.29754661],\n",
       "       [-0.26870881],\n",
       "       [-0.15715305],\n",
       "       [-0.23208823],\n",
       "       [-0.3006557 ],\n",
       "       [-0.27631221],\n",
       "       [-0.13307186],\n",
       "       [-0.30549558],\n",
       "       [-0.25467317],\n",
       "       [-0.18989318],\n",
       "       [-0.2535871 ],\n",
       "       [-0.28930655],\n",
       "       [-0.30542965],\n",
       "       [-0.30531596],\n",
       "       [-0.23544562],\n",
       "       [-0.20694735],\n",
       "       [-0.24886685],\n",
       "       [ 0.82932141],\n",
       "       [-0.30334279],\n",
       "       [-0.3051474 ],\n",
       "       [-0.28114189],\n",
       "       [-0.29533196],\n",
       "       [-0.30517256],\n",
       "       [-0.2812625 ],\n",
       "       [-0.16273044],\n",
       "       [-0.24019897],\n",
       "       [ 3.02857931],\n",
       "       [-0.3041293 ],\n",
       "       [ 1.76639422],\n",
       "       [-0.15576643],\n",
       "       [ 0.09713847],\n",
       "       [-0.22540646],\n",
       "       [-0.30252063],\n",
       "       [ 0.59368804],\n",
       "       [-0.29707721],\n",
       "       [-0.2865467 ],\n",
       "       [ 2.92611342],\n",
       "       [ 8.03648601],\n",
       "       [ 0.29645201]])"
      ]
     },
     "execution_count": 6,
     "metadata": {},
     "output_type": "execute_result"
    }
   ],
   "source": [
    "y"
   ]
  },
  {
   "cell_type": "code",
   "execution_count": 7,
   "id": "69bdb144-2bb1-4ce3-95e8-6d18dcbf3954",
   "metadata": {},
   "outputs": [],
   "source": [
    "X_train, X_test, y_train, y_test = train_test_split(X, y, test_size=0.2, random_state=42)"
   ]
  },
  {
   "cell_type": "code",
   "execution_count": 8,
   "id": "2c50007b-c5e5-41ea-9a38-7292011ff4fe",
   "metadata": {},
   "outputs": [
    {
     "data": {
      "text/html": [
       "<style>#sk-container-id-1 {color: black;}#sk-container-id-1 pre{padding: 0;}#sk-container-id-1 div.sk-toggleable {background-color: white;}#sk-container-id-1 label.sk-toggleable__label {cursor: pointer;display: block;width: 100%;margin-bottom: 0;padding: 0.3em;box-sizing: border-box;text-align: center;}#sk-container-id-1 label.sk-toggleable__label-arrow:before {content: \"▸\";float: left;margin-right: 0.25em;color: #696969;}#sk-container-id-1 label.sk-toggleable__label-arrow:hover:before {color: black;}#sk-container-id-1 div.sk-estimator:hover label.sk-toggleable__label-arrow:before {color: black;}#sk-container-id-1 div.sk-toggleable__content {max-height: 0;max-width: 0;overflow: hidden;text-align: left;background-color: #f0f8ff;}#sk-container-id-1 div.sk-toggleable__content pre {margin: 0.2em;color: black;border-radius: 0.25em;background-color: #f0f8ff;}#sk-container-id-1 input.sk-toggleable__control:checked~div.sk-toggleable__content {max-height: 200px;max-width: 100%;overflow: auto;}#sk-container-id-1 input.sk-toggleable__control:checked~label.sk-toggleable__label-arrow:before {content: \"▾\";}#sk-container-id-1 div.sk-estimator input.sk-toggleable__control:checked~label.sk-toggleable__label {background-color: #d4ebff;}#sk-container-id-1 div.sk-label input.sk-toggleable__control:checked~label.sk-toggleable__label {background-color: #d4ebff;}#sk-container-id-1 input.sk-hidden--visually {border: 0;clip: rect(1px 1px 1px 1px);clip: rect(1px, 1px, 1px, 1px);height: 1px;margin: -1px;overflow: hidden;padding: 0;position: absolute;width: 1px;}#sk-container-id-1 div.sk-estimator {font-family: monospace;background-color: #f0f8ff;border: 1px dotted black;border-radius: 0.25em;box-sizing: border-box;margin-bottom: 0.5em;}#sk-container-id-1 div.sk-estimator:hover {background-color: #d4ebff;}#sk-container-id-1 div.sk-parallel-item::after {content: \"\";width: 100%;border-bottom: 1px solid gray;flex-grow: 1;}#sk-container-id-1 div.sk-label:hover label.sk-toggleable__label {background-color: #d4ebff;}#sk-container-id-1 div.sk-serial::before {content: \"\";position: absolute;border-left: 1px solid gray;box-sizing: border-box;top: 0;bottom: 0;left: 50%;z-index: 0;}#sk-container-id-1 div.sk-serial {display: flex;flex-direction: column;align-items: center;background-color: white;padding-right: 0.2em;padding-left: 0.2em;position: relative;}#sk-container-id-1 div.sk-item {position: relative;z-index: 1;}#sk-container-id-1 div.sk-parallel {display: flex;align-items: stretch;justify-content: center;background-color: white;position: relative;}#sk-container-id-1 div.sk-item::before, #sk-container-id-1 div.sk-parallel-item::before {content: \"\";position: absolute;border-left: 1px solid gray;box-sizing: border-box;top: 0;bottom: 0;left: 50%;z-index: -1;}#sk-container-id-1 div.sk-parallel-item {display: flex;flex-direction: column;z-index: 1;position: relative;background-color: white;}#sk-container-id-1 div.sk-parallel-item:first-child::after {align-self: flex-end;width: 50%;}#sk-container-id-1 div.sk-parallel-item:last-child::after {align-self: flex-start;width: 50%;}#sk-container-id-1 div.sk-parallel-item:only-child::after {width: 0;}#sk-container-id-1 div.sk-dashed-wrapped {border: 1px dashed gray;margin: 0 0.4em 0.5em 0.4em;box-sizing: border-box;padding-bottom: 0.4em;background-color: white;}#sk-container-id-1 div.sk-label label {font-family: monospace;font-weight: bold;display: inline-block;line-height: 1.2em;}#sk-container-id-1 div.sk-label-container {text-align: center;}#sk-container-id-1 div.sk-container {/* jupyter's `normalize.less` sets `[hidden] { display: none; }` but bootstrap.min.css set `[hidden] { display: none !important; }` so we also need the `!important` here to be able to override the default hidden behavior on the sphinx rendered scikit-learn.org. See: https://github.com/scikit-learn/scikit-learn/issues/21755 */display: inline-block !important;position: relative;}#sk-container-id-1 div.sk-text-repr-fallback {display: none;}</style><div id=\"sk-container-id-1\" class=\"sk-top-container\"><div class=\"sk-text-repr-fallback\"><pre>XGBRegressor(base_score=None, booster=None, callbacks=None,\n",
       "             colsample_bylevel=None, colsample_bynode=None,\n",
       "             colsample_bytree=None, device=None, early_stopping_rounds=None,\n",
       "             enable_categorical=False, eval_metric=None, feature_types=None,\n",
       "             gamma=None, grow_policy=None, importance_type=None,\n",
       "             interaction_constraints=None, learning_rate=1, max_bin=None,\n",
       "             max_cat_threshold=None, max_cat_to_onehot=None,\n",
       "             max_delta_step=None, max_depth=5, max_leaves=None,\n",
       "             min_child_weight=None, missing=nan, monotone_constraints=None,\n",
       "             multi_strategy=None, n_estimators=100, n_jobs=None,\n",
       "             num_parallel_tree=None, random_state=42, ...)</pre><b>In a Jupyter environment, please rerun this cell to show the HTML representation or trust the notebook. <br />On GitHub, the HTML representation is unable to render, please try loading this page with nbviewer.org.</b></div><div class=\"sk-container\" hidden><div class=\"sk-item\"><div class=\"sk-estimator sk-toggleable\"><input class=\"sk-toggleable__control sk-hidden--visually\" id=\"sk-estimator-id-1\" type=\"checkbox\" checked><label for=\"sk-estimator-id-1\" class=\"sk-toggleable__label sk-toggleable__label-arrow\">XGBRegressor</label><div class=\"sk-toggleable__content\"><pre>XGBRegressor(base_score=None, booster=None, callbacks=None,\n",
       "             colsample_bylevel=None, colsample_bynode=None,\n",
       "             colsample_bytree=None, device=None, early_stopping_rounds=None,\n",
       "             enable_categorical=False, eval_metric=None, feature_types=None,\n",
       "             gamma=None, grow_policy=None, importance_type=None,\n",
       "             interaction_constraints=None, learning_rate=1, max_bin=None,\n",
       "             max_cat_threshold=None, max_cat_to_onehot=None,\n",
       "             max_delta_step=None, max_depth=5, max_leaves=None,\n",
       "             min_child_weight=None, missing=nan, monotone_constraints=None,\n",
       "             multi_strategy=None, n_estimators=100, n_jobs=None,\n",
       "             num_parallel_tree=None, random_state=42, ...)</pre></div></div></div></div></div>"
      ],
      "text/plain": [
       "XGBRegressor(base_score=None, booster=None, callbacks=None,\n",
       "             colsample_bylevel=None, colsample_bynode=None,\n",
       "             colsample_bytree=None, device=None, early_stopping_rounds=None,\n",
       "             enable_categorical=False, eval_metric=None, feature_types=None,\n",
       "             gamma=None, grow_policy=None, importance_type=None,\n",
       "             interaction_constraints=None, learning_rate=1, max_bin=None,\n",
       "             max_cat_threshold=None, max_cat_to_onehot=None,\n",
       "             max_delta_step=None, max_depth=5, max_leaves=None,\n",
       "             min_child_weight=None, missing=nan, monotone_constraints=None,\n",
       "             multi_strategy=None, n_estimators=100, n_jobs=None,\n",
       "             num_parallel_tree=None, random_state=42, ...)"
      ]
     },
     "execution_count": 8,
     "metadata": {},
     "output_type": "execute_result"
    }
   ],
   "source": [
    "regressor = XGBRegressor(n_estimators=100, random_state=42, learning_rate=1, max_depth=4)\n",
    "regressor.fit(X_train, y_train)"
   ]
  },
  {
   "cell_type": "code",
   "execution_count": 9,
   "id": "0a18433d-b02c-4284-b7c6-d521f0e1a4c8",
   "metadata": {},
   "outputs": [],
   "source": [
    "y_pred = regressor.predict(X_test)"
   ]
  },
  {
   "cell_type": "code",
   "execution_count": 10,
   "id": "d9693604-cbfc-4193-901c-cbba8399c5c0",
   "metadata": {},
   "outputs": [
    {
     "data": {
      "text/plain": [
       "0.47690641487445806"
      ]
     },
     "execution_count": 10,
     "metadata": {},
     "output_type": "execute_result"
    }
   ],
   "source": [
    "r2 = r2_score(y_test, y_pred)\n",
    "r2"
   ]
  },
  {
   "cell_type": "code",
   "execution_count": 11,
   "id": "84f3fcd9-7e4e-451d-9f34-f570c5c1cc16",
   "metadata": {
    "scrolled": true
   },
   "outputs": [
    {
     "data": {
      "text/plain": [
       "array([-0.23616487, -0.28043148, -0.30857903, -0.08212864, -0.17737404,\n",
       "       -0.30865154,  0.8125745 , -0.16274028,  1.1474167 , -0.2867327 ,\n",
       "       -0.17816454, -0.2977575 , -0.30212852, -0.24837686, -0.286344  ,\n",
       "       -0.2862567 , -0.30382195, -0.25661466,  2.922259  , -0.2276547 ,\n",
       "       -0.29794672, -0.20528859], dtype=float32)"
      ]
     },
     "execution_count": 11,
     "metadata": {},
     "output_type": "execute_result"
    }
   ],
   "source": [
    "y_pred"
   ]
  },
  {
   "cell_type": "code",
   "execution_count": 12,
   "id": "08f1da60-55a2-45ba-9998-356172f3fcdb",
   "metadata": {},
   "outputs": [],
   "source": [
    "mse = mean_squared_error(y_test, y_pred)"
   ]
  },
  {
   "cell_type": "code",
   "execution_count": 13,
   "id": "ef5cca9b-24db-451a-86eb-f440c8ef3568",
   "metadata": {},
   "outputs": [
    {
     "data": {
      "text/plain": [
       "1.8978241754672809"
      ]
     },
     "execution_count": 13,
     "metadata": {},
     "output_type": "execute_result"
    }
   ],
   "source": [
    "mse"
   ]
  },
  {
   "cell_type": "code",
   "execution_count": null,
   "id": "e61d1c45-57b5-4c0a-a404-e63278627b2c",
   "metadata": {},
   "outputs": [],
   "source": []
  },
  {
   "cell_type": "code",
   "execution_count": 21,
   "id": "d4e639bf-cc00-41c4-915b-d5fdf4f000e0",
   "metadata": {},
   "outputs": [
    {
     "name": "stdout",
     "output_type": "stream",
     "text": [
      "Mean Squared Error: 1477.1659724600613\n"
     ]
    }
   ],
   "source": [
    "import pandas as pd\n",
    "import numpy as np\n",
    "from sklearn.model_selection import train_test_split\n",
    "from sklearn.preprocessing import LabelEncoder\n",
    "from xgboost import XGBRegressor\n",
    "from sklearn.metrics import mean_squared_error\n",
    "\n",
    "# Example test data\n",
    "data = {\n",
    "    'Category': ['A', 'B', 'A', 'C', 'B', 'C', 'A', 'B', 'C'],\n",
    "    'NumericFeature': [10, 20, 15, 25, 30, 35, 40, 45, 50],\n",
    "    'Label': [100, 200, 150, 250, 300, 350, 400, 450, 500]\n",
    "}\n",
    "\n",
    "df = pd.DataFrame(data)\n",
    "\n",
    "# Perform Label Encoding for categorical feature 'Category'\n",
    "le = LabelEncoder()\n",
    "df['Category'] = le.fit_transform(df['Category'])\n",
    "\n",
    "# Split data into training and testing sets\n",
    "X = df[['Category', 'NumericFeature']]\n",
    "y = df['Label']\n",
    "X_train, X_test, y_train, y_test = train_test_split(X, y, test_size=0.2, random_state=42)\n",
    "\n",
    "# Create and train the XGBoost model\n",
    "regressor = XGBRegressor(\n",
    "    n_estimators=100,   # Number of boosting rounds (trees)\n",
    "    learning_rate=0.1,  # Step size shrinkage used to prevent overfitting\n",
    "    max_depth=3,        # Maximum depth of each tree\n",
    "    min_child_weight=1, # Minimum sum of weights of all observations required in a child\n",
    "    subsample=1,        # Fraction of samples used for fitting the trees\n",
    "    colsample_bytree=1, # Fraction of features used for fitting the trees\n",
    "    gamma=0,            # Minimum loss reduction required to make a further partition on a leaf node\n",
    "    reg_alpha=0,        # L1 regularization term on weights\n",
    "    reg_lambda=1,       # L2 regularization term on weights\n",
    "    random_state=42     # Seed for random number generator\n",
    ")\n",
    "regressor.fit(X_train, y_train)\n",
    "\n",
    "# Predict on the test set\n",
    "y_pred = regressor.predict(X_test)\n",
    "\n",
    "# Evaluate model accuracy\n",
    "mse = mean_squared_error(y_test, y_pred)\n",
    "print(f\"Mean Squared Error: {mse}\")"
   ]
  },
  {
   "cell_type": "code",
   "execution_count": 31,
   "id": "02768791-36c7-41e1-943b-c873fb6bec65",
   "metadata": {},
   "outputs": [
    {
     "name": "stdout",
     "output_type": "stream",
     "text": [
      "Mean Squared Error: 1477.1659724600613\n"
     ]
    }
   ],
   "source": [
    "import pandas as pd\n",
    "import numpy as np\n",
    "from sklearn.model_selection import train_test_split\n",
    "from sklearn.preprocessing import LabelEncoder\n",
    "from xgboost import XGBRegressor\n",
    "from sklearn.metrics import mean_squared_error\n",
    "\n",
    "# Приклад тестових даних\n",
    "data = {\n",
    "    'Category': ['A', 'B', 'A', 'C', 'B', 'C', 'A', 'B', 'C'],\n",
    "    'NumericFeature': [10, 20, 15, 25, 30, 35, 40, 45, 50],\n",
    "    'Label': [100, 200, 150, 250, 300, 350, 400, 450, 500]\n",
    "}\n",
    "\n",
    "df = pd.DataFrame(data)\n",
    "\n",
    "# Виконуємо Label Encoding для категорійної ознаки 'Category'\n",
    "le = LabelEncoder()\n",
    "df['Category'] = le.fit_transform(df['Category'])\n",
    "\n",
    "# Розділяємо дані на навчальний та тестовий набори\n",
    "X = df[['Category', 'NumericFeature']]\n",
    "y = df['Label']\n",
    "X_train, X_test, y_train, y_test = train_test_split(X, y, test_size=0.2, random_state=42)\n",
    "\n",
    "# Створюємо та навчаємо модель XGBoost\n",
    "regressor = XGBRegressor(n_estimators=100, random_state=42, learning_rate=0.1, max_depth=3)\n",
    "regressor.fit(X_train, y_train)\n",
    "\n",
    "# Прогнозування на тестовому наборі\n",
    "y_pred = regressor.predict(X_test)\n",
    "\n",
    "# Оцінка точності моделі\n",
    "mse = mean_squared_error(y_test, y_pred)\n",
    "print(f\"Mean Squared Error: {mse}\")\n"
   ]
  },
  {
   "cell_type": "code",
   "execution_count": 32,
   "id": "dd2a0c4b-0ae7-46f3-8d5e-2637a4d97cf2",
   "metadata": {},
   "outputs": [
    {
     "data": {
      "text/plain": [
       "array([428.85858, 250.07367], dtype=float32)"
      ]
     },
     "execution_count": 32,
     "metadata": {},
     "output_type": "execute_result"
    }
   ],
   "source": [
    "y_pred"
   ]
  },
  {
   "cell_type": "code",
   "execution_count": 33,
   "id": "9411875e-8082-4261-b1e3-1a02809e43d0",
   "metadata": {},
   "outputs": [
    {
     "data": {
      "text/html": [
       "<div>\n",
       "<style scoped>\n",
       "    .dataframe tbody tr th:only-of-type {\n",
       "        vertical-align: middle;\n",
       "    }\n",
       "\n",
       "    .dataframe tbody tr th {\n",
       "        vertical-align: top;\n",
       "    }\n",
       "\n",
       "    .dataframe thead th {\n",
       "        text-align: right;\n",
       "    }\n",
       "</style>\n",
       "<table border=\"1\" class=\"dataframe\">\n",
       "  <thead>\n",
       "    <tr style=\"text-align: right;\">\n",
       "      <th></th>\n",
       "      <th>Category</th>\n",
       "      <th>NumericFeature</th>\n",
       "    </tr>\n",
       "  </thead>\n",
       "  <tbody>\n",
       "    <tr>\n",
       "      <th>7</th>\n",
       "      <td>1</td>\n",
       "      <td>45</td>\n",
       "    </tr>\n",
       "    <tr>\n",
       "      <th>1</th>\n",
       "      <td>1</td>\n",
       "      <td>20</td>\n",
       "    </tr>\n",
       "  </tbody>\n",
       "</table>\n",
       "</div>"
      ],
      "text/plain": [
       "   Category  NumericFeature\n",
       "7         1              45\n",
       "1         1              20"
      ]
     },
     "execution_count": 33,
     "metadata": {},
     "output_type": "execute_result"
    }
   ],
   "source": []
  },
  {
   "cell_type": "code",
   "execution_count": 17,
   "id": "79cf9075-d244-420f-b458-9c5cc603161e",
   "metadata": {},
   "outputs": [
    {
     "name": "stdout",
     "output_type": "stream",
     "text": [
      "Final Output:\n",
      "[[0.01905541]\n",
      " [0.98358867]\n",
      " [0.98355803]\n",
      " [0.01701144]]\n"
     ]
    }
   ],
   "source": [
    "import numpy as np\n",
    "\n",
    "# Функція активації (в даному випадку - сигмоїдальна)\n",
    "def sigmoid(x):\n",
    "    return 1 / (1 + np.exp(-x))\n",
    "\n",
    "# Вхідні дані та очікуваний вихід\n",
    "X = np.array([[0, 0], [0, 1], [1, 0], [1, 1]])\n",
    "y = np.array([[0], [1], [1], [0]])\n",
    "\n",
    "# Ініціалізація ваг та зсуву\n",
    "input_neurons = 2\n",
    "hidden_neurons = 2\n",
    "output_neurons = 1\n",
    "\n",
    "weights_input_hidden = np.random.rand(input_neurons, hidden_neurons)\n",
    "weights_hidden_output = np.random.rand(hidden_neurons, output_neurons)\n",
    "\n",
    "bias_hidden = np.random.rand(1, hidden_neurons)\n",
    "bias_output = np.random.rand(1, output_neurons)\n",
    "\n",
    "# Навчання мережі\n",
    "learning_rate = 0.5\n",
    "epochs = 10000\n",
    "\n",
    "for epoch in range(epochs):\n",
    "    # Прямий прохід (feedforward)\n",
    "    hidden_input = np.dot(X, weights_input_hidden) + bias_hidden\n",
    "    hidden_output = sigmoid(hidden_input)\n",
    "\n",
    "    final_input = np.dot(hidden_output, weights_hidden_output) + bias_output\n",
    "    final_output = sigmoid(final_input)\n",
    "\n",
    "    # Обчислення помилки\n",
    "    error = y - final_output\n",
    "\n",
    "    # Зворотній прохід (backpropagation)\n",
    "    d_output = error * (final_output * (1 - final_output))\n",
    "    error_hidden = d_output.dot(weights_hidden_output.T)\n",
    "    d_hidden = error_hidden * (hidden_output * (1 - hidden_output))\n",
    "\n",
    "    # Оновлення ваг та зсуву\n",
    "    weights_hidden_output += hidden_output.T.dot(d_output) * learning_rate\n",
    "    weights_input_hidden += X.T.dot(d_hidden) * learning_rate\n",
    "    bias_output += np.sum(d_output, axis=0) * learning_rate\n",
    "    bias_hidden += np.sum(d_hidden, axis=0) * learning_rate\n",
    "\n",
    "# Прогнозування\n",
    "hidden_input = np.dot(X, weights_input_hidden) + bias_hidden\n",
    "hidden_output = sigmoid(hidden_input)\n",
    "final_input = np.dot(hidden_output, weights_hidden_output) + bias_output\n",
    "final_output = sigmoid(final_input)\n",
    "\n",
    "print(\"Final Output:\")\n",
    "print(final_output)\n"
   ]
  },
  {
   "cell_type": "code",
   "execution_count": 5,
   "id": "5adfc312-bed7-4219-ad6e-f9b682175e77",
   "metadata": {},
   "outputs": [],
   "source": [
    "# New_code"
   ]
  },
  {
   "cell_type": "code",
   "execution_count": 245,
   "id": "d67c934c-2969-4e1e-a651-92def27e2a30",
   "metadata": {},
   "outputs": [],
   "source": [
    "import pandas as pd\n",
    "import numpy as np\n",
    "from sklearn.preprocessing import OneHotEncoder\n",
    "from sklearn.compose import ColumnTransformer\n",
    "from sklearn.preprocessing import LabelEncoder\n",
    "from sklearn.preprocessing import StandardScaler\n",
    "from sklearn.model_selection import train_test_split\n",
    "from sklearn.metrics import r2_score\n",
    "from sklearn.metrics import mean_squared_error\n",
    "from sklearn.ensemble import GradientBoostingRegressor\n",
    "from sklearn.metrics import r2_score\n",
    "from sklearn.preprocessing import MinMaxScaler\n",
    "import pickle\n",
    "from sklearn.metrics import mean_absolute_error\n",
    "from xgboost import XGBRegressor"
   ]
  },
  {
   "cell_type": "code",
   "execution_count": 267,
   "id": "4ae9ed70-b26d-420e-a177-f50a6c7c78fb",
   "metadata": {},
   "outputs": [],
   "source": [
    "sc = StandardScaler()\n",
    "# # sc = MinMaxScaler()\n",
    "\n",
    "dataset = pd.read_csv(\"true_pred.csv\")\n",
    "extended_dataset = dataset\n",
    "extended_dataset = extended_dataset[extended_dataset['locations'] >2 ].reset_index(drop=True)\n",
    "extended_dataset['earnings_per_screen'] = extended_dataset['estimated_earnings']/extended_dataset['locations']\n",
    "extended_dataset = extended_dataset.drop(['estimated_earnings'], axis=1)\n",
    "extended_dataset = extended_dataset.rename(columns={'earnings_per_screen': 'estimated_earnings'})\n",
    "extended_dataset['locations'] = 1\n",
    "dataset = pd.concat([dataset, extended_dataset], ignore_index=True)\n",
    "# dataset = dataset.groupby(by=['date','country','venue_type','locations'])['estimated_earnings'].mean().reset_index()\n",
    "dataset = dataset.sort_values(by=['date', 'locations', 'estimated_earnings'], ascending=True).reset_index(drop=True)\n",
    "# dataset.to_csv('test_delete.csv')\n",
    "\n",
    "X = dataset.iloc[:, 0:4].values\n",
    "y = dataset.iloc[:, -1].values\n",
    "y = y.reshape(-1,1)\n",
    "# y = np.round(y)\n",
    "# y = np.floor(y)\n",
    "# encoder = LabelEncoder()\n",
    "s_cy = StandardScaler()\n",
    "y = s_cy.fit_transform(y)\n",
    "# X[:,0] = encoder.fit_transform(X[:,0])\n",
    "# X[:,1] = encoder.fit_transform(X[:,1])"
   ]
  },
  {
   "cell_type": "code",
   "execution_count": 268,
   "id": "408c63c8-c0ff-4ea8-ac4d-d63c55bca578",
   "metadata": {},
   "outputs": [
    {
     "name": "stderr",
     "output_type": "stream",
     "text": [
      "C:\\Users\\CaroLife\\Desktop\\machine_learning_python\\venv\\Lib\\site-packages\\sklearn\\preprocessing\\_encoders.py:975: FutureWarning: `sparse` was renamed to `sparse_output` in version 1.2 and will be removed in 1.4. `sparse_output` is ignored unless you leave `sparse` to its default value.\n",
      "  warnings.warn(\n",
      "C:\\Users\\CaroLife\\Desktop\\machine_learning_python\\venv\\Lib\\site-packages\\sklearn\\preprocessing\\_encoders.py:975: FutureWarning: `sparse` was renamed to `sparse_output` in version 1.2 and will be removed in 1.4. `sparse_output` is ignored unless you leave `sparse` to its default value.\n",
      "  warnings.warn(\n"
     ]
    }
   ],
   "source": [
    "categorical_cols = [1,2]\n",
    "numeric_cols = [3]\n",
    "\n",
    "categorical_encoder = OneHotEncoder(sparse = False)\n",
    "categorical_encoder.fit(X[:, 1:3])\n",
    "numeric_encoder = StandardScaler()\n",
    "numeric_encoder.fit(X[:, 3].reshape(-1,1))\n",
    "labelencoder = LabelEncoder()\n",
    "labelencoder.fit(np.array(['2022','2023','2024','2025','2026','2027','2028','2029','2030']))\n",
    "\n",
    "preprocessor = ColumnTransformer(\n",
    "    transformers=[\n",
    "        ('cat', categorical_encoder, categorical_cols),\n",
    "        ('num', numeric_encoder, numeric_cols)\n",
    "    ],\n",
    "    remainder='passthrough'\n",
    ")\n",
    "\n",
    "# Fit and transform the column transformer to the entire dataframe\n",
    "X = preprocessor.fit_transform(X)\n",
    "X[:,-1] = labelencoder.transform(X[:,-1])"
   ]
  },
  {
   "cell_type": "code",
   "execution_count": 249,
   "id": "6e75c672-bf09-4709-8c37-4bf750e0f9e1",
   "metadata": {},
   "outputs": [
    {
     "data": {
      "text/plain": [
       "array([[0.0, 0.0, 0.0, ..., 0.0, -0.1629741866300583, 0],\n",
       "       [0.0, 0.0, 0.0, ..., 0.0, -0.1629741866300583, 0],\n",
       "       [0.0, 0.0, 0.0, ..., 0.0, -0.1629741866300583, 0],\n",
       "       ...,\n",
       "       [0.0, 0.0, 0.0, ..., 0.0, 1.4897361151464965, 1],\n",
       "       [0.0, 0.0, 0.0, ..., 0.0, 1.6829760888926781, 1],\n",
       "       [0.0, 0.0, 0.0, ..., 0.0, 10.165193883856658, 1]], dtype=object)"
      ]
     },
     "execution_count": 249,
     "metadata": {},
     "output_type": "execute_result"
    }
   ],
   "source": [
    "X"
   ]
  },
  {
   "cell_type": "code",
   "execution_count": 273,
   "id": "14e112fe-fbe3-4a2b-a693-9e28fb3285b9",
   "metadata": {},
   "outputs": [
    {
     "data": {
      "text/plain": [
       "0.11197831310576829"
      ]
     },
     "execution_count": 273,
     "metadata": {},
     "output_type": "execute_result"
    }
   ],
   "source": [
    "X_train, X_test, y_train, y_test = train_test_split(X,y,test_size = 0.2, random_state = 42)\n",
    "# regressor = GradientBoostingRegressor(learning_rate=1, n_estimators=100, max_depth=5,random_state = 42)\n",
    "# regressor.fit(X_train, y_train.ravel())  # Застосовуємо ravel() до y_train\n",
    "regressor = XGBRegressor(n_estimators=100, random_state=42, learning_rate=1, max_depth=1000)\n",
    "regressor.fit(X_train, y_train)\n",
    "# Прогнозування на тестовому наборі\n",
    "y_pred = regressor.predict(X_test)\n",
    "# y_pred = np.maximum(y_pred, 0)\n",
    "# Вимірювання точності моделі за допомогою MSE\n",
    "mse = mean_squared_error(y_test, y_pred)\n",
    "\n",
    "# from sklearn.ensemble import RandomForestRegressor\n",
    "# regressor = RandomForestRegressor(n_estimators = 10000, random_state = 0)\n",
    "# regressor.fit(X_train, y_train)\n",
    "mse"
   ]
  },
  {
   "cell_type": "code",
   "execution_count": 274,
   "id": "2e665ca6-3f9e-4c6e-9a6e-adbe5aa9e873",
   "metadata": {},
   "outputs": [
    {
     "name": "stdout",
     "output_type": "stream",
     "text": [
      "[[7.]]\n"
     ]
    }
   ],
   "source": [
    "print(s_cy.inverse_transform([[-0.22213982]]))"
   ]
  },
  {
   "cell_type": "code",
   "execution_count": 275,
   "id": "c08c1b0e-fa76-4e48-a318-872c89771651",
   "metadata": {},
   "outputs": [
    {
     "data": {
      "text/plain": [
       "0.11804388819394754"
      ]
     },
     "execution_count": 275,
     "metadata": {},
     "output_type": "execute_result"
    }
   ],
   "source": [
    "mae = mean_absolute_error(y_test, y_pred)\n",
    "mae"
   ]
  },
  {
   "cell_type": "code",
   "execution_count": 276,
   "id": "6a619ae4-786b-4d2a-bf53-50d52a34140c",
   "metadata": {},
   "outputs": [
    {
     "name": "stdout",
     "output_type": "stream",
     "text": [
      "[[     -1.5       7.5]\n",
      " [   1896.5     323. ]\n",
      " [   1841.6    1235.2]\n",
      " [  14397.5   56996. ]\n",
      " [   2618.2    1563.8]\n",
      " [    136.7     411. ]\n",
      " [   5910.6    3554.9]\n",
      " [  32866.3   53843.7]\n",
      " [   7533.6   16052.3]\n",
      " [   2345.5    1443.7]\n",
      " [  32754.    35333. ]\n",
      " [ -12088.5    3119.1]\n",
      " [ -10317.9    1517.3]\n",
      " [-113145.8   30225.7]\n",
      " [-128213.7   19706.4]\n",
      " [  21490.3   29710.6]\n",
      " [   1780.3    7905.1]\n",
      " [   2570.8    7905.6]\n",
      " [  39770.6   32397.4]\n",
      " [   5910.6   58686.1]\n",
      " [   4699.9    1070.2]\n",
      " [    183.1     324.9]\n",
      " [   8184.8    2442.9]\n",
      " [     -1.5       6.8]\n",
      " [  16464.     2584.1]\n",
      " [   3109.     6175.8]\n",
      " [   2680.4    8487. ]\n",
      " [ 158439.1    3574.3]\n",
      " [    589.4    1148.8]\n",
      " [   2684.7    2228.8]\n",
      " [    672.6     104.8]\n",
      " [    207.9     457.7]\n",
      " [   2989.6    4480. ]\n",
      " [  15760.8    4451.9]\n",
      " [    369.1      78.7]\n",
      " [    165.2     156. ]\n",
      " [    316.7    3118. ]\n",
      " [   2791.9    3871.3]\n",
      " [  23413.4   22146.7]\n",
      " [  32800.9  445586.5]]\n"
     ]
    }
   ],
   "source": [
    "# print(np.concatenate((y_pred.reshape(len(y_pred),1), y_test.reshape(len(y_test),1)),1))\n",
    "np.set_printoptions(precision=1, suppress=True)\n",
    "print(np.concatenate((s_cy.inverse_transform(y_pred.reshape(-1,1)).reshape(-1,1), s_cy.inverse_transform(y_test.reshape(-1,1)).reshape(-1,1)), axis=1))\n",
    "# print(np.concatenate((y_pred.reshape(-1,1), y_test.reshape(-1,1)), axis =1))"
   ]
  },
  {
   "cell_type": "code",
   "execution_count": 209,
   "id": "64881015-822a-467f-9da6-bcf2bd638927",
   "metadata": {},
   "outputs": [
    {
     "data": {
      "text/plain": [
       "array([['0.0', '0.0', '0.0', '0.0', '0.0', '0.0', '1.0', '0.0', '0.0',\n",
       "        '0.0', '0.0', '0.0', '0.0', '0.0', '0.0', '0.0', '0.0', '1.0',\n",
       "        '0.0', '0.0', '0.0', '0.0', '0.0', '0.0', '0.0', '0.0', '0.0',\n",
       "        '0.0', '0.0', '0.0', '0.0', '0.0', '0.0', '0.0', '0.0', '0.0',\n",
       "        '0.0', '0.0', '0.0', '0.0', '0.0', '0.0', '0.0', '0.0', '0.0',\n",
       "        '0.0', '0.0', '0.0', '0.0', '2023']], dtype='<U32')"
      ]
     },
     "execution_count": 209,
     "metadata": {},
     "output_type": "execute_result"
    }
   ],
   "source": [
    "pred_1 = preprocessor.transform(np.array([['2023','DEU', 'Airports',1]]))\n",
    "pred_1"
   ]
  },
  {
   "cell_type": "code",
   "execution_count": 210,
   "id": "874aae67-ea83-4cd7-b6b9-d37bf25a35c8",
   "metadata": {},
   "outputs": [
    {
     "data": {
      "text/plain": [
       "array([['0.0', '0.0', '0.0', '0.0', '0.0', '0.0', '1.0', '0.0', '0.0',\n",
       "        '0.0', '0.0', '0.0', '0.0', '0.0', '0.0', '0.0', '0.0', '1.0',\n",
       "        '0.0', '0.0', '0.0', '0.0', '0.0', '0.0', '0.0', '0.0', '0.0',\n",
       "        '0.0', '0.0', '0.0', '0.0', '0.0', '0.0', '0.0', '0.0', '0.0',\n",
       "        '0.0', '0.0', '0.0', '0.0', '0.0', '0.0', '0.0', '0.0', '0.0',\n",
       "        '0.0', '0.0', '0.0', '0.0', '1']], dtype='<U32')"
      ]
     },
     "execution_count": 210,
     "metadata": {},
     "output_type": "execute_result"
    }
   ],
   "source": [
    "\n",
    "# X_input = encoded_X.transform(np.array([['DEU', 'Gyms']]))\n",
    "# X_input\n",
    "# X_iput3 = np.array([[1]])\n",
    "pred_1[:,-1] = labelencoder.transform(pred_1[:,-1])\n",
    "# pred_1 = regressor.predict(pred_1).reshape(-1,1)\n",
    "# pred_1 = s_cy.inverse_transform(pred_1)\n",
    "# pred_1\n",
    "pred_1"
   ]
  },
  {
   "cell_type": "code",
   "execution_count": 211,
   "id": "0320a729-ee46-4570-b0c5-4e518a33dc7c",
   "metadata": {},
   "outputs": [
    {
     "data": {
      "text/plain": [
       "array([['0.0', '0.0', '0.0', '0.0', '0.0', '0.0', '1.0', '0.0', '0.0',\n",
       "        '0.0', '0.0', '0.0', '0.0', '0.0', '0.0', '0.0', '0.0', '1.0',\n",
       "        '0.0', '0.0', '0.0', '0.0', '0.0', '0.0', '0.0', '0.0', '0.0',\n",
       "        '0.0', '0.0', '0.0', '0.0', '0.0', '0.0', '0.0', '0.0', '0.0',\n",
       "        '0.0', '0.0', '0.0', '0.0', '0.0', '0.0', '0.0', '0.0', '0.0',\n",
       "        '0.0', '0.0', '0.0', '0.0', '1']], dtype='<U32')"
      ]
     },
     "execution_count": 211,
     "metadata": {},
     "output_type": "execute_result"
    }
   ],
   "source": [
    "pred_1"
   ]
  },
  {
   "cell_type": "code",
   "execution_count": 212,
   "id": "2f797f40-09b8-4d26-8999-6a4660fe7261",
   "metadata": {},
   "outputs": [],
   "source": [
    "pred_1 = regressor.predict(np.array(pred_1).astype(float)).reshape(-1,1)"
   ]
  },
  {
   "cell_type": "code",
   "execution_count": 213,
   "id": "943a3bd3-9e09-4758-a282-f4f8adf43809",
   "metadata": {},
   "outputs": [
    {
     "data": {
      "text/plain": [
       "array([[3150.3]], dtype=float32)"
      ]
     },
     "execution_count": 213,
     "metadata": {},
     "output_type": "execute_result"
    }
   ],
   "source": [
    "s_cy.inverse_transform(pred_1)"
   ]
  },
  {
   "cell_type": "code",
   "execution_count": null,
   "id": "963e6501-f0eb-4b55-8c75-de38ddc6efcb",
   "metadata": {},
   "outputs": [],
   "source": []
  },
  {
   "cell_type": "code",
   "execution_count": null,
   "id": "05aeec1c-e204-458a-b9c1-9b59c6055934",
   "metadata": {},
   "outputs": [],
   "source": []
  },
  {
   "cell_type": "code",
   "execution_count": null,
   "id": "c118edd3-db38-4007-9432-5660be0390dd",
   "metadata": {},
   "outputs": [],
   "source": []
  },
  {
   "cell_type": "code",
   "execution_count": null,
   "id": "8f7d6344-85b0-4254-a81f-b52f90cb1998",
   "metadata": {},
   "outputs": [],
   "source": []
  },
  {
   "cell_type": "code",
   "execution_count": null,
   "id": "8c5f2f01-fd33-4472-85f4-8835783d65f7",
   "metadata": {},
   "outputs": [],
   "source": []
  },
  {
   "cell_type": "code",
   "execution_count": null,
   "id": "94a1bd8f-7732-4a39-afae-4e3cb5f11a1a",
   "metadata": {},
   "outputs": [],
   "source": []
  }
 ],
 "metadata": {
  "kernelspec": {
   "display_name": "Python 3 (ipykernel)",
   "language": "python",
   "name": "python3"
  },
  "language_info": {
   "codemirror_mode": {
    "name": "ipython",
    "version": 3
   },
   "file_extension": ".py",
   "mimetype": "text/x-python",
   "name": "python",
   "nbconvert_exporter": "python",
   "pygments_lexer": "ipython3",
   "version": "3.11.1"
  }
 },
 "nbformat": 4,
 "nbformat_minor": 5
}
